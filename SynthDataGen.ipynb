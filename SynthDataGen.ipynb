{
 "cells": [
  {
   "cell_type": "markdown",
   "metadata": {},
   "source": [
    "### The flag Churn means that the customer churns in 1 months from now\n",
    "### This means that the CHURN flag needs to be set on a CERTAIN TIMESTAMP \n",
    "### and that the predictions need to be computed on a CERTAIN TIMESTAMP"
   ]
  },
  {
   "cell_type": "markdown",
   "metadata": {},
   "source": [
    "one dataframe for customer data : customer, start date, end date\n",
    "one dataframe for predictions: day, customer, churn flag"
   ]
  },
  {
   "cell_type": "code",
   "execution_count": 1,
   "metadata": {},
   "outputs": [],
   "source": [
    "import pandas as pd\n",
    "import numpy as np\n",
    "import datetime as dt\n",
    "pd.set_option('display.max_rows',None)"
   ]
  },
  {
   "cell_type": "markdown",
   "metadata": {},
   "source": [
    "There are 1000 accounts. \n",
    "Each one starts on a randomn day between 1,1,2020 and 1,1,2022.\n",
    "The averagetenure is 300 days but varies with size and industry"
   ]
  },
  {
   "cell_type": "code",
   "execution_count": 2,
   "metadata": {},
   "outputs": [],
   "source": [
    "def random_dates(start, end, n=10):\n",
    "\n",
    "    start_u = start.value//10**9\n",
    "    end_u = end.value//10**9\n",
    "\n",
    "    return pd.to_datetime(np.random.randint(start_u, end_u, n), unit='s')"
   ]
  },
  {
   "cell_type": "markdown",
   "metadata": {},
   "source": [
    "## I want to compute for Q1 of 2021, which customer will churn 1 month from now"
   ]
  },
  {
   "cell_type": "code",
   "execution_count": 3,
   "metadata": {},
   "outputs": [
    {
     "data": {
      "text/plain": [
       "DatetimeIndex(['2021-04-01', '2021-04-02', '2021-04-03', '2021-04-04',\n",
       "               '2021-04-05', '2021-04-06', '2021-04-07', '2021-04-08',\n",
       "               '2021-04-09', '2021-04-10', '2021-04-11', '2021-04-12',\n",
       "               '2021-04-13', '2021-04-14', '2021-04-15', '2021-04-16',\n",
       "               '2021-04-17', '2021-04-18', '2021-04-19', '2021-04-20',\n",
       "               '2021-04-21', '2021-04-22', '2021-04-23', '2021-04-24',\n",
       "               '2021-04-25', '2021-04-26', '2021-04-27', '2021-04-28',\n",
       "               '2021-04-29', '2021-04-30', '2021-05-01', '2021-05-02',\n",
       "               '2021-05-03', '2021-05-04', '2021-05-05', '2021-05-06',\n",
       "               '2021-05-07', '2021-05-08', '2021-05-09', '2021-05-10',\n",
       "               '2021-05-11', '2021-05-12', '2021-05-13', '2021-05-14',\n",
       "               '2021-05-15', '2021-05-16', '2021-05-17', '2021-05-18',\n",
       "               '2021-05-19', '2021-05-20', '2021-05-21', '2021-05-22',\n",
       "               '2021-05-23', '2021-05-24', '2021-05-25', '2021-05-26',\n",
       "               '2021-05-27', '2021-05-28', '2021-05-29', '2021-05-30',\n",
       "               '2021-05-31', '2021-06-01', '2021-06-02', '2021-06-03',\n",
       "               '2021-06-04', '2021-06-05', '2021-06-06', '2021-06-07',\n",
       "               '2021-06-08', '2021-06-09', '2021-06-10', '2021-06-11',\n",
       "               '2021-06-12', '2021-06-13', '2021-06-14', '2021-06-15',\n",
       "               '2021-06-16', '2021-06-17', '2021-06-18', '2021-06-19',\n",
       "               '2021-06-20', '2021-06-21', '2021-06-22', '2021-06-23',\n",
       "               '2021-06-24', '2021-06-25', '2021-06-26', '2021-06-27',\n",
       "               '2021-06-28', '2021-06-29', '2021-06-30', '2021-07-01'],\n",
       "              dtype='datetime64[ns]', freq='D')"
      ]
     },
     "execution_count": 3,
     "metadata": {},
     "output_type": "execute_result"
    }
   ],
   "source": [
    "dates = pd.date_range(dt.date(2021,4,1), dt.date(2021,7,1))\n",
    "dates"
   ]
  },
  {
   "cell_type": "code",
   "execution_count": 4,
   "metadata": {},
   "outputs": [],
   "source": [
    "start = pd.to_datetime('2018-01-01')\n",
    "end = pd.to_datetime('2022-01-01')\n",
    "\n",
    "accounts = np.random.randint(0,100000,1000)\n",
    "startdates = random_dates(start, end, n=1000)\n",
    "sizes = np.random.choice(['Large','Small'], 1000, p=[0.2, 0.8])\n",
    "industries = np.random.choice(['Construction','Manufacturing','PublicSector','Military','Other'], 1000, p=[0.1, 0.25, 0.46, 0.15,0.04])\n",
    "randel = np.random.normal(0,30, 1000).astype(np.int)\n",
    "shorttenure = np.random.normal(300,60,1000).astype(np.int)\n",
    "longtenure = np.random.normal(400,75,1000).astype(np.int)"
   ]
  },
  {
   "cell_type": "code",
   "execution_count": 5,
   "metadata": {},
   "outputs": [],
   "source": [
    "df = pd.DataFrame()\n",
    "df['accounts'] = accounts\n",
    "df['startdate'] = startdates\n",
    "df['size'] = sizes\n",
    "df['longtenure'] = longtenure\n",
    "df['shorttenure'] = shorttenure\n",
    "df['industry'] = industries\n",
    "df['tenure'] = np.where(df['size']=='Large', df['longtenure'], df['shorttenure'])\n",
    "df['tenure'] = np.where(df['industry']=='Construction', df['tenure']+randel, df['tenure'])\n",
    "df['tenure'] = np.where(df['industry']=='Manufacturing', df['tenure']+2*randel, df['tenure'])\n",
    "df['tenure'] = np.where(df['industry']=='PublicSector', df['tenure']+3*randel, df['tenure'])\n",
    "df['tenure'] = np.where(df['industry']=='Military', df['tenure']+4*randel, df['tenure'])\n",
    "df['enddate'] = df.apply(lambda x: x['startdate'] + dt.timedelta(x['tenure']), axis=1)\n",
    "df = df[['accounts','startdate','size','industry','tenure','enddate']]"
   ]
  },
  {
   "cell_type": "markdown",
   "metadata": {},
   "source": [
    "### Assigning churn to customers churning in the following month"
   ]
  },
  {
   "cell_type": "code",
   "execution_count": 6,
   "metadata": {},
   "outputs": [],
   "source": [
    "mydates = []\n",
    "customers = []\n",
    "churn = []\n",
    "\n",
    "for date in dates:\n",
    "    for i in range(len(df)):\n",
    "        if date > df['enddate'].iloc[i]:\n",
    "            continue\n",
    "        elif date > df['enddate'].iloc[i]-dt.timedelta(30):\n",
    "            mydates.append(date)\n",
    "            customers.append(df['accounts'].iloc[i])\n",
    "            churn.append('Churn')\n",
    "        elif (date > df['startdate'].iloc[i]) & (date < (df['enddate'].iloc[i]-dt.timedelta(30))):\n",
    "            mydates.append(date)\n",
    "            customers.append(df['accounts'].iloc[i])\n",
    "            churn.append('Active')"
   ]
  },
  {
   "cell_type": "code",
   "execution_count": 7,
   "metadata": {},
   "outputs": [
    {
     "data": {
      "text/html": [
       "<div>\n",
       "<style scoped>\n",
       "    .dataframe tbody tr th:only-of-type {\n",
       "        vertical-align: middle;\n",
       "    }\n",
       "\n",
       "    .dataframe tbody tr th {\n",
       "        vertical-align: top;\n",
       "    }\n",
       "\n",
       "    .dataframe thead th {\n",
       "        text-align: right;\n",
       "    }\n",
       "</style>\n",
       "<table border=\"1\" class=\"dataframe\">\n",
       "  <thead>\n",
       "    <tr style=\"text-align: right;\">\n",
       "      <th></th>\n",
       "      <th>Dates</th>\n",
       "      <th>AccountID</th>\n",
       "      <th>Churn</th>\n",
       "    </tr>\n",
       "  </thead>\n",
       "  <tbody>\n",
       "    <tr>\n",
       "      <th>0</th>\n",
       "      <td>2021-04-01</td>\n",
       "      <td>46147</td>\n",
       "      <td>Active</td>\n",
       "    </tr>\n",
       "    <tr>\n",
       "      <th>1</th>\n",
       "      <td>2021-04-01</td>\n",
       "      <td>52694</td>\n",
       "      <td>Active</td>\n",
       "    </tr>\n",
       "    <tr>\n",
       "      <th>2</th>\n",
       "      <td>2021-04-01</td>\n",
       "      <td>1206</td>\n",
       "      <td>Active</td>\n",
       "    </tr>\n",
       "    <tr>\n",
       "      <th>3</th>\n",
       "      <td>2021-04-01</td>\n",
       "      <td>89471</td>\n",
       "      <td>Active</td>\n",
       "    </tr>\n",
       "    <tr>\n",
       "      <th>4</th>\n",
       "      <td>2021-04-01</td>\n",
       "      <td>51803</td>\n",
       "      <td>Active</td>\n",
       "    </tr>\n",
       "  </tbody>\n",
       "</table>\n",
       "</div>"
      ],
      "text/plain": [
       "       Dates  AccountID   Churn\n",
       "0 2021-04-01      46147  Active\n",
       "1 2021-04-01      52694  Active\n",
       "2 2021-04-01       1206  Active\n",
       "3 2021-04-01      89471  Active\n",
       "4 2021-04-01      51803  Active"
      ]
     },
     "execution_count": 7,
     "metadata": {},
     "output_type": "execute_result"
    }
   ],
   "source": [
    "ch = pd.DataFrame({'Dates': mydates, 'AccountID': customers, 'Churn': churn})\n",
    "ch.head()"
   ]
  },
  {
   "cell_type": "code",
   "execution_count": 8,
   "metadata": {},
   "outputs": [],
   "source": [
    "dfall = ch.merge(df, left_on='AccountID', right_on='accounts', how='left')"
   ]
  },
  {
   "cell_type": "code",
   "execution_count": 9,
   "metadata": {},
   "outputs": [
    {
     "data": {
      "text/html": [
       "<div>\n",
       "<style scoped>\n",
       "    .dataframe tbody tr th:only-of-type {\n",
       "        vertical-align: middle;\n",
       "    }\n",
       "\n",
       "    .dataframe tbody tr th {\n",
       "        vertical-align: top;\n",
       "    }\n",
       "\n",
       "    .dataframe thead th {\n",
       "        text-align: right;\n",
       "    }\n",
       "</style>\n",
       "<table border=\"1\" class=\"dataframe\">\n",
       "  <thead>\n",
       "    <tr style=\"text-align: right;\">\n",
       "      <th></th>\n",
       "      <th>Dates</th>\n",
       "      <th>AccountID</th>\n",
       "      <th>Churn</th>\n",
       "      <th>accounts</th>\n",
       "      <th>startdate</th>\n",
       "      <th>size</th>\n",
       "      <th>industry</th>\n",
       "      <th>tenure</th>\n",
       "      <th>enddate</th>\n",
       "      <th>Tenure</th>\n",
       "    </tr>\n",
       "  </thead>\n",
       "  <tbody>\n",
       "    <tr>\n",
       "      <th>3755</th>\n",
       "      <td>2021-04-16</td>\n",
       "      <td>85769</td>\n",
       "      <td>Active</td>\n",
       "      <td>85769</td>\n",
       "      <td>2020-01-21 22:21:41</td>\n",
       "      <td>Large</td>\n",
       "      <td>PublicSector</td>\n",
       "      <td>618</td>\n",
       "      <td>2021-09-30 22:21:41</td>\n",
       "      <td>450</td>\n",
       "    </tr>\n",
       "    <tr>\n",
       "      <th>7226</th>\n",
       "      <td>2021-05-01</td>\n",
       "      <td>51479</td>\n",
       "      <td>Active</td>\n",
       "      <td>51479</td>\n",
       "      <td>2021-04-08 03:08:17</td>\n",
       "      <td>Small</td>\n",
       "      <td>Construction</td>\n",
       "      <td>312</td>\n",
       "      <td>2022-02-14 03:08:17</td>\n",
       "      <td>22</td>\n",
       "    </tr>\n",
       "    <tr>\n",
       "      <th>5225</th>\n",
       "      <td>2021-04-22</td>\n",
       "      <td>82207</td>\n",
       "      <td>Active</td>\n",
       "      <td>82207</td>\n",
       "      <td>2021-04-20 23:22:02</td>\n",
       "      <td>Small</td>\n",
       "      <td>PublicSector</td>\n",
       "      <td>406</td>\n",
       "      <td>2022-05-31 23:22:02</td>\n",
       "      <td>1</td>\n",
       "    </tr>\n",
       "  </tbody>\n",
       "</table>\n",
       "</div>"
      ],
      "text/plain": [
       "          Dates  AccountID   Churn  accounts           startdate   size  \\\n",
       "3755 2021-04-16      85769  Active     85769 2020-01-21 22:21:41  Large   \n",
       "7226 2021-05-01      51479  Active     51479 2021-04-08 03:08:17  Small   \n",
       "5225 2021-04-22      82207  Active     82207 2021-04-20 23:22:02  Small   \n",
       "\n",
       "          industry  tenure             enddate  Tenure  \n",
       "3755  PublicSector     618 2021-09-30 22:21:41     450  \n",
       "7226  Construction     312 2022-02-14 03:08:17      22  \n",
       "5225  PublicSector     406 2022-05-31 23:22:02       1  "
      ]
     },
     "execution_count": 9,
     "metadata": {},
     "output_type": "execute_result"
    }
   ],
   "source": [
    "dfall['Tenure'] = (dfall['Dates'] - dfall['startdate']).dt.days\n",
    "dfall.sample(3)"
   ]
  },
  {
   "cell_type": "code",
   "execution_count": 11,
   "metadata": {},
   "outputs": [
    {
     "data": {
      "text/html": [
       "<div>\n",
       "<style scoped>\n",
       "    .dataframe tbody tr th:only-of-type {\n",
       "        vertical-align: middle;\n",
       "    }\n",
       "\n",
       "    .dataframe tbody tr th {\n",
       "        vertical-align: top;\n",
       "    }\n",
       "\n",
       "    .dataframe thead th {\n",
       "        text-align: right;\n",
       "    }\n",
       "</style>\n",
       "<table border=\"1\" class=\"dataframe\">\n",
       "  <thead>\n",
       "    <tr style=\"text-align: right;\">\n",
       "      <th></th>\n",
       "      <th>Dates</th>\n",
       "      <th>AccountID</th>\n",
       "      <th>Churn</th>\n",
       "      <th>accounts</th>\n",
       "      <th>startdate</th>\n",
       "      <th>size</th>\n",
       "      <th>industry</th>\n",
       "      <th>tenure</th>\n",
       "      <th>enddate</th>\n",
       "      <th>Tenure</th>\n",
       "    </tr>\n",
       "  </thead>\n",
       "  <tbody>\n",
       "    <tr>\n",
       "      <th>8864</th>\n",
       "      <td>2021-05-08</td>\n",
       "      <td>11153</td>\n",
       "      <td>Churn</td>\n",
       "      <td>11153</td>\n",
       "      <td>2020-09-29 23:23:39</td>\n",
       "      <td>Small</td>\n",
       "      <td>PublicSector</td>\n",
       "      <td>221</td>\n",
       "      <td>2021-05-08 23:23:39</td>\n",
       "      <td>220</td>\n",
       "    </tr>\n",
       "    <tr>\n",
       "      <th>8933</th>\n",
       "      <td>2021-05-08</td>\n",
       "      <td>50748</td>\n",
       "      <td>Active</td>\n",
       "      <td>50748</td>\n",
       "      <td>2020-06-28 03:17:33</td>\n",
       "      <td>Small</td>\n",
       "      <td>PublicSector</td>\n",
       "      <td>396</td>\n",
       "      <td>2021-07-29 03:17:33</td>\n",
       "      <td>313</td>\n",
       "    </tr>\n",
       "    <tr>\n",
       "      <th>8898</th>\n",
       "      <td>2021-05-08</td>\n",
       "      <td>43132</td>\n",
       "      <td>Churn</td>\n",
       "      <td>43132</td>\n",
       "      <td>2020-06-18 16:55:58</td>\n",
       "      <td>Small</td>\n",
       "      <td>PublicSector</td>\n",
       "      <td>342</td>\n",
       "      <td>2021-05-26 16:55:58</td>\n",
       "      <td>323</td>\n",
       "    </tr>\n",
       "  </tbody>\n",
       "</table>\n",
       "</div>"
      ],
      "text/plain": [
       "          Dates  AccountID   Churn  accounts           startdate   size  \\\n",
       "8864 2021-05-08      11153   Churn     11153 2020-09-29 23:23:39  Small   \n",
       "8933 2021-05-08      50748  Active     50748 2020-06-28 03:17:33  Small   \n",
       "8898 2021-05-08      43132   Churn     43132 2020-06-18 16:55:58  Small   \n",
       "\n",
       "          industry  tenure             enddate  Tenure  \n",
       "8864  PublicSector     221 2021-05-08 23:23:39     220  \n",
       "8933  PublicSector     396 2021-07-29 03:17:33     313  \n",
       "8898  PublicSector     342 2021-05-26 16:55:58     323  "
      ]
     },
     "execution_count": 11,
     "metadata": {},
     "output_type": "execute_result"
    }
   ],
   "source": [
    "dfall[dfall['Dates']=='2021-05-08'].sample(3)"
   ]
  },
  {
   "cell_type": "code",
   "execution_count": 12,
   "metadata": {},
   "outputs": [
    {
     "name": "stderr",
     "output_type": "stream",
     "text": [
      "\n",
      "Bad key \"text.kerning_factor\" on line 4 in\n",
      "/Users/fabrizio/anaconda3/envs/DATA/lib/python3.6/site-packages/matplotlib/mpl-data/stylelib/_classic_test_patch.mplstyle.\n",
      "You probably need to get an updated matplotlibrc file from\n",
      "https://github.com/matplotlib/matplotlib/blob/v3.1.3/matplotlibrc.template\n",
      "or from the matplotlib source distribution\n"
     ]
    },
    {
     "data": {
      "text/plain": [
       "<matplotlib.axes._subplots.AxesSubplot at 0x7fd942dcfb38>"
      ]
     },
     "execution_count": 12,
     "metadata": {},
     "output_type": "execute_result"
    },
    {
     "data": {
      "image/png": "[encoded data removed]",
      "text/plain": [
       "<Figure size 432x288 with 1 Axes>"
      ]
     },
     "metadata": {
      "needs_background": "light"
     },
     "output_type": "display_data"
    }
   ],
   "source": [
    "dfall[dfall['Churn']=='Churn'].Tenure.hist(alpha=0.2, bins=20, density=True, color='blue')\n",
    "dfall[dfall['Churn']=='Active'].Tenure.hist(alpha=0.2, bins=20, density=True, color='red')\n"
   ]
  },
  {
   "cell_type": "code",
   "execution_count": 13,
   "metadata": {},
   "outputs": [],
   "source": [
    "dfall.to_csv('SynthDataChurnQ2.csv', index=None)"
   ]
  },
  {
   "cell_type": "code",
   "execution_count": null,
   "metadata": {},
   "outputs": [],
   "source": []
  }
 ],
 "metadata": {
  "kernelspec": {
   "display_name": "Python [conda env:DATA] *",
   "language": "python",
   "name": "conda-env-DATA-py"
  },
  "language_info": {
   "codemirror_mode": {
    "name": "ipython",
    "version": 3
   },
   "file_extension": ".py",
   "mimetype": "text/x-python",
   "name": "python",
   "nbconvert_exporter": "python",
   "pygments_lexer": "ipython3",
   "version": "3.6.10"
  }
 },
 "nbformat": 4,
 "nbformat_minor": 4
}
